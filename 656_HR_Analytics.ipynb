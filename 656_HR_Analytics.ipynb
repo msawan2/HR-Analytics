{
 "cells": [
  {
   "cell_type": "markdown",
   "id": "11a016f7",
   "metadata": {
    "id": "11a016f7"
   },
   "source": [
    "#### Importing Libraries "
   ]
  },
  {
   "cell_type": "code",
   "execution_count": 5,
   "id": "1bc1bb99",
   "metadata": {
    "id": "1bc1bb99"
   },
   "outputs": [],
   "source": [
    "import pandas as pd\n",
    "import shap\n",
    "from sklearn.linear_model import LogisticRegression\n",
    "import joblib\n",
    "import lightgbm as lgb\n",
    "from sklearn.ensemble import VotingClassifier\n",
    "from scipy.stats import uniform as sp_randFloat\n",
    "from scipy.stats import randint as sp_randInt \n",
    "from sklearn.metrics import make_scorer\n",
    "from sklearn.model_selection import StratifiedKFold\n",
    "import csv\n",
    "from sklearn.model_selection import cross_val_score\n",
    "from sklearn.model_selection import RepeatedStratifiedKFold\n",
    "from sklearn import preprocessing\n",
    "import catboost as catboost\n",
    "import warnings\n",
    "from imblearn.over_sampling import SMOTE\n",
    "warnings.filterwarnings('ignore')\n",
    "import numpy as np\n",
    "from sklearn.model_selection import train_test_split\n",
    "from sklearn import metrics\n",
    "from sklearn.metrics import accuracy_score, f1_score\n",
    "from sklearn.metrics import confusion_matrix\n",
    "import seaborn as sns\n",
    "import matplotlib.pyplot as plt\n",
    "from sklearn.tree import DecisionTreeClassifier\n",
    "from sklearn.ensemble import RandomForestClassifier, GradientBoostingClassifier, AdaBoostClassifier, ExtraTreesClassifier\n",
    "from sklearn.model_selection import GridSearchCV, RandomizedSearchCV\n",
    "from sklearn.metrics import accuracy_score, balanced_accuracy_score, roc_auc_score, classification_report, roc_curve"
   ]
  },
  {
   "cell_type": "markdown",
   "id": "35d3ef5a",
   "metadata": {
    "id": "35d3ef5a"
   },
   "source": [
    "#### Reading, understanding and preprocessing the data "
   ]
  },
  {
   "cell_type": "markdown",
   "id": "d7354423",
   "metadata": {
    "id": "d7354423"
   },
   "source": [
    "Detailed comments are mentioned in each cell. To provide a high level overview, in this part of notebook, we are performing missing values imputation, plotting, feature engineering, encoding of categorical columns and oversampling the minority class."
   ]
  },
  {
   "cell_type": "code",
   "execution_count": 6,
   "id": "23eee1c8",
   "metadata": {
    "id": "23eee1c8"
   },
   "outputs": [],
   "source": [
    "df = pd.read_csv('train_LZdllcl.csv') #reading in the data\n",
    "df = df.drop(columns = ['employee_id']) #drop employee id"
   ]
  },
  {
   "cell_type": "code",
   "execution_count": 7,
   "id": "80018b8d",
   "metadata": {
    "id": "80018b8d"
   },
   "outputs": [],
   "source": [
    "# Missing Value Imputation\n",
    "df.education.fillna(\"Bachelor's\", inplace=True) #mode is bachelors\n",
    "df.previous_year_rating.fillna(0, inplace=True) #probably because its a new comer and dont really have a prev yr rating"
   ]
  },
  {
   "cell_type": "code",
   "execution_count": 8,
   "id": "30783e04",
   "metadata": {
    "colab": {
     "base_uri": "https://localhost:8080/",
     "height": 260
    },
    "id": "30783e04",
    "outputId": "4b554a93-2c03-48d8-b3bd-00f14dc10c14"
   },
   "outputs": [
    {
     "data": {
      "text/html": [
       "\n",
       "  <div id=\"df-1ab6836c-efc3-44aa-999a-f6fa2ef3979f\">\n",
       "    <div class=\"colab-df-container\">\n",
       "      <div>\n",
       "<style scoped>\n",
       "    .dataframe tbody tr th:only-of-type {\n",
       "        vertical-align: middle;\n",
       "    }\n",
       "\n",
       "    .dataframe tbody tr th {\n",
       "        vertical-align: top;\n",
       "    }\n",
       "\n",
       "    .dataframe thead th {\n",
       "        text-align: right;\n",
       "    }\n",
       "</style>\n",
       "<table border=\"1\" class=\"dataframe\">\n",
       "  <thead>\n",
       "    <tr style=\"text-align: right;\">\n",
       "      <th></th>\n",
       "      <th>department</th>\n",
       "      <th>region</th>\n",
       "      <th>education</th>\n",
       "      <th>gender</th>\n",
       "      <th>recruitment_channel</th>\n",
       "      <th>no_of_trainings</th>\n",
       "      <th>age</th>\n",
       "      <th>previous_year_rating</th>\n",
       "      <th>length_of_service</th>\n",
       "      <th>KPIs_met &gt;80%</th>\n",
       "      <th>awards_won?</th>\n",
       "      <th>avg_training_score</th>\n",
       "      <th>is_promoted</th>\n",
       "    </tr>\n",
       "  </thead>\n",
       "  <tbody>\n",
       "    <tr>\n",
       "      <th>0</th>\n",
       "      <td>Sales &amp; Marketing</td>\n",
       "      <td>region_7</td>\n",
       "      <td>Master's &amp; above</td>\n",
       "      <td>f</td>\n",
       "      <td>sourcing</td>\n",
       "      <td>1</td>\n",
       "      <td>35</td>\n",
       "      <td>5.0</td>\n",
       "      <td>8</td>\n",
       "      <td>1</td>\n",
       "      <td>0</td>\n",
       "      <td>49</td>\n",
       "      <td>0</td>\n",
       "    </tr>\n",
       "    <tr>\n",
       "      <th>1</th>\n",
       "      <td>Operations</td>\n",
       "      <td>region_22</td>\n",
       "      <td>Bachelor's</td>\n",
       "      <td>m</td>\n",
       "      <td>other</td>\n",
       "      <td>1</td>\n",
       "      <td>30</td>\n",
       "      <td>5.0</td>\n",
       "      <td>4</td>\n",
       "      <td>0</td>\n",
       "      <td>0</td>\n",
       "      <td>60</td>\n",
       "      <td>0</td>\n",
       "    </tr>\n",
       "    <tr>\n",
       "      <th>2</th>\n",
       "      <td>Sales &amp; Marketing</td>\n",
       "      <td>region_19</td>\n",
       "      <td>Bachelor's</td>\n",
       "      <td>m</td>\n",
       "      <td>sourcing</td>\n",
       "      <td>1</td>\n",
       "      <td>34</td>\n",
       "      <td>3.0</td>\n",
       "      <td>7</td>\n",
       "      <td>0</td>\n",
       "      <td>0</td>\n",
       "      <td>50</td>\n",
       "      <td>0</td>\n",
       "    </tr>\n",
       "  </tbody>\n",
       "</table>\n",
       "</div>\n",
       "      <button class=\"colab-df-convert\" onclick=\"convertToInteractive('df-1ab6836c-efc3-44aa-999a-f6fa2ef3979f')\"\n",
       "              title=\"Convert this dataframe to an interactive table.\"\n",
       "              style=\"display:none;\">\n",
       "        \n",
       "  <svg xmlns=\"http://www.w3.org/2000/svg\" height=\"24px\"viewBox=\"0 0 24 24\"\n",
       "       width=\"24px\">\n",
       "    <path d=\"M0 0h24v24H0V0z\" fill=\"none\"/>\n",
       "    <path d=\"M18.56 5.44l.94 2.06.94-2.06 2.06-.94-2.06-.94-.94-2.06-.94 2.06-2.06.94zm-11 1L8.5 8.5l.94-2.06 2.06-.94-2.06-.94L8.5 2.5l-.94 2.06-2.06.94zm10 10l.94 2.06.94-2.06 2.06-.94-2.06-.94-.94-2.06-.94 2.06-2.06.94z\"/><path d=\"M17.41 7.96l-1.37-1.37c-.4-.4-.92-.59-1.43-.59-.52 0-1.04.2-1.43.59L10.3 9.45l-7.72 7.72c-.78.78-.78 2.05 0 2.83L4 21.41c.39.39.9.59 1.41.59.51 0 1.02-.2 1.41-.59l7.78-7.78 2.81-2.81c.8-.78.8-2.07 0-2.86zM5.41 20L4 18.59l7.72-7.72 1.47 1.35L5.41 20z\"/>\n",
       "  </svg>\n",
       "      </button>\n",
       "      \n",
       "  <style>\n",
       "    .colab-df-container {\n",
       "      display:flex;\n",
       "      flex-wrap:wrap;\n",
       "      gap: 12px;\n",
       "    }\n",
       "\n",
       "    .colab-df-convert {\n",
       "      background-color: #E8F0FE;\n",
       "      border: none;\n",
       "      border-radius: 50%;\n",
       "      cursor: pointer;\n",
       "      display: none;\n",
       "      fill: #1967D2;\n",
       "      height: 32px;\n",
       "      padding: 0 0 0 0;\n",
       "      width: 32px;\n",
       "    }\n",
       "\n",
       "    .colab-df-convert:hover {\n",
       "      background-color: #E2EBFA;\n",
       "      box-shadow: 0px 1px 2px rgba(60, 64, 67, 0.3), 0px 1px 3px 1px rgba(60, 64, 67, 0.15);\n",
       "      fill: #174EA6;\n",
       "    }\n",
       "\n",
       "    [theme=dark] .colab-df-convert {\n",
       "      background-color: #3B4455;\n",
       "      fill: #D2E3FC;\n",
       "    }\n",
       "\n",
       "    [theme=dark] .colab-df-convert:hover {\n",
       "      background-color: #434B5C;\n",
       "      box-shadow: 0px 1px 3px 1px rgba(0, 0, 0, 0.15);\n",
       "      filter: drop-shadow(0px 1px 2px rgba(0, 0, 0, 0.3));\n",
       "      fill: #FFFFFF;\n",
       "    }\n",
       "  </style>\n",
       "\n",
       "      <script>\n",
       "        const buttonEl =\n",
       "          document.querySelector('#df-1ab6836c-efc3-44aa-999a-f6fa2ef3979f button.colab-df-convert');\n",
       "        buttonEl.style.display =\n",
       "          google.colab.kernel.accessAllowed ? 'block' : 'none';\n",
       "\n",
       "        async function convertToInteractive(key) {\n",
       "          const element = document.querySelector('#df-1ab6836c-efc3-44aa-999a-f6fa2ef3979f');\n",
       "          const dataTable =\n",
       "            await google.colab.kernel.invokeFunction('convertToInteractive',\n",
       "                                                     [key], {});\n",
       "          if (!dataTable) return;\n",
       "\n",
       "          const docLinkHtml = 'Like what you see? Visit the ' +\n",
       "            '<a target=\"_blank\" href=https://colab.research.google.com/notebooks/data_table.ipynb>data table notebook</a>'\n",
       "            + ' to learn more about interactive tables.';\n",
       "          element.innerHTML = '';\n",
       "          dataTable['output_type'] = 'display_data';\n",
       "          await google.colab.output.renderOutput(dataTable, element);\n",
       "          const docLink = document.createElement('div');\n",
       "          docLink.innerHTML = docLinkHtml;\n",
       "          element.appendChild(docLink);\n",
       "        }\n",
       "      </script>\n",
       "    </div>\n",
       "  </div>\n",
       "  "
      ],
      "text/plain": [
       "          department     region  ... avg_training_score is_promoted\n",
       "0  Sales & Marketing   region_7  ...                 49           0\n",
       "1         Operations  region_22  ...                 60           0\n",
       "2  Sales & Marketing  region_19  ...                 50           0\n",
       "\n",
       "[3 rows x 13 columns]"
      ]
     },
     "execution_count": 8,
     "metadata": {},
     "output_type": "execute_result"
    }
   ],
   "source": [
    "df.head(3)"
   ]
  },
  {
   "cell_type": "code",
   "execution_count": 9,
   "id": "404f4851",
   "metadata": {
    "colab": {
     "base_uri": "https://localhost:8080/",
     "height": 344
    },
    "id": "404f4851",
    "outputId": "99d67a1e-b51f-4317-eaff-c0b38cafc061",
    "scrolled": true
   },
   "outputs": [
    {
     "data": {
      "text/html": [
       "\n",
       "  <div id=\"df-64236c98-b9a4-40c4-a858-22ddbfc4775d\">\n",
       "    <div class=\"colab-df-container\">\n",
       "      <div>\n",
       "<style scoped>\n",
       "    .dataframe tbody tr th:only-of-type {\n",
       "        vertical-align: middle;\n",
       "    }\n",
       "\n",
       "    .dataframe tbody tr th {\n",
       "        vertical-align: top;\n",
       "    }\n",
       "\n",
       "    .dataframe thead th {\n",
       "        text-align: right;\n",
       "    }\n",
       "</style>\n",
       "<table border=\"1\" class=\"dataframe\">\n",
       "  <thead>\n",
       "    <tr style=\"text-align: right;\">\n",
       "      <th></th>\n",
       "      <th>no_of_trainings</th>\n",
       "      <th>age</th>\n",
       "      <th>previous_year_rating</th>\n",
       "      <th>length_of_service</th>\n",
       "      <th>KPIs_met &gt;80%</th>\n",
       "      <th>awards_won?</th>\n",
       "      <th>avg_training_score</th>\n",
       "      <th>is_promoted</th>\n",
       "    </tr>\n",
       "  </thead>\n",
       "  <tbody>\n",
       "    <tr>\n",
       "      <th>count</th>\n",
       "      <td>54808.000000</td>\n",
       "      <td>54808.000000</td>\n",
       "      <td>54808.000000</td>\n",
       "      <td>54808.000000</td>\n",
       "      <td>54808.000000</td>\n",
       "      <td>54808.000000</td>\n",
       "      <td>54808.000000</td>\n",
       "      <td>54808.000000</td>\n",
       "    </tr>\n",
       "    <tr>\n",
       "      <th>mean</th>\n",
       "      <td>1.253011</td>\n",
       "      <td>34.803915</td>\n",
       "      <td>3.078748</td>\n",
       "      <td>5.865512</td>\n",
       "      <td>0.351974</td>\n",
       "      <td>0.023172</td>\n",
       "      <td>63.386750</td>\n",
       "      <td>0.085170</td>\n",
       "    </tr>\n",
       "    <tr>\n",
       "      <th>std</th>\n",
       "      <td>0.609264</td>\n",
       "      <td>7.660169</td>\n",
       "      <td>1.496458</td>\n",
       "      <td>4.265094</td>\n",
       "      <td>0.477590</td>\n",
       "      <td>0.150450</td>\n",
       "      <td>13.371559</td>\n",
       "      <td>0.279137</td>\n",
       "    </tr>\n",
       "    <tr>\n",
       "      <th>min</th>\n",
       "      <td>1.000000</td>\n",
       "      <td>20.000000</td>\n",
       "      <td>0.000000</td>\n",
       "      <td>1.000000</td>\n",
       "      <td>0.000000</td>\n",
       "      <td>0.000000</td>\n",
       "      <td>39.000000</td>\n",
       "      <td>0.000000</td>\n",
       "    </tr>\n",
       "    <tr>\n",
       "      <th>25%</th>\n",
       "      <td>1.000000</td>\n",
       "      <td>29.000000</td>\n",
       "      <td>2.000000</td>\n",
       "      <td>3.000000</td>\n",
       "      <td>0.000000</td>\n",
       "      <td>0.000000</td>\n",
       "      <td>51.000000</td>\n",
       "      <td>0.000000</td>\n",
       "    </tr>\n",
       "    <tr>\n",
       "      <th>50%</th>\n",
       "      <td>1.000000</td>\n",
       "      <td>33.000000</td>\n",
       "      <td>3.000000</td>\n",
       "      <td>5.000000</td>\n",
       "      <td>0.000000</td>\n",
       "      <td>0.000000</td>\n",
       "      <td>60.000000</td>\n",
       "      <td>0.000000</td>\n",
       "    </tr>\n",
       "    <tr>\n",
       "      <th>75%</th>\n",
       "      <td>1.000000</td>\n",
       "      <td>39.000000</td>\n",
       "      <td>4.000000</td>\n",
       "      <td>7.000000</td>\n",
       "      <td>1.000000</td>\n",
       "      <td>0.000000</td>\n",
       "      <td>76.000000</td>\n",
       "      <td>0.000000</td>\n",
       "    </tr>\n",
       "    <tr>\n",
       "      <th>max</th>\n",
       "      <td>10.000000</td>\n",
       "      <td>60.000000</td>\n",
       "      <td>5.000000</td>\n",
       "      <td>37.000000</td>\n",
       "      <td>1.000000</td>\n",
       "      <td>1.000000</td>\n",
       "      <td>99.000000</td>\n",
       "      <td>1.000000</td>\n",
       "    </tr>\n",
       "  </tbody>\n",
       "</table>\n",
       "</div>\n",
       "      <button class=\"colab-df-convert\" onclick=\"convertToInteractive('df-64236c98-b9a4-40c4-a858-22ddbfc4775d')\"\n",
       "              title=\"Convert this dataframe to an interactive table.\"\n",
       "              style=\"display:none;\">\n",
       "        \n",
       "  <svg xmlns=\"http://www.w3.org/2000/svg\" height=\"24px\"viewBox=\"0 0 24 24\"\n",
       "       width=\"24px\">\n",
       "    <path d=\"M0 0h24v24H0V0z\" fill=\"none\"/>\n",
       "    <path d=\"M18.56 5.44l.94 2.06.94-2.06 2.06-.94-2.06-.94-.94-2.06-.94 2.06-2.06.94zm-11 1L8.5 8.5l.94-2.06 2.06-.94-2.06-.94L8.5 2.5l-.94 2.06-2.06.94zm10 10l.94 2.06.94-2.06 2.06-.94-2.06-.94-.94-2.06-.94 2.06-2.06.94z\"/><path d=\"M17.41 7.96l-1.37-1.37c-.4-.4-.92-.59-1.43-.59-.52 0-1.04.2-1.43.59L10.3 9.45l-7.72 7.72c-.78.78-.78 2.05 0 2.83L4 21.41c.39.39.9.59 1.41.59.51 0 1.02-.2 1.41-.59l7.78-7.78 2.81-2.81c.8-.78.8-2.07 0-2.86zM5.41 20L4 18.59l7.72-7.72 1.47 1.35L5.41 20z\"/>\n",
       "  </svg>\n",
       "      </button>\n",
       "      \n",
       "  <style>\n",
       "    .colab-df-container {\n",
       "      display:flex;\n",
       "      flex-wrap:wrap;\n",
       "      gap: 12px;\n",
       "    }\n",
       "\n",
       "    .colab-df-convert {\n",
       "      background-color: #E8F0FE;\n",
       "      border: none;\n",
       "      border-radius: 50%;\n",
       "      cursor: pointer;\n",
       "      display: none;\n",
       "      fill: #1967D2;\n",
       "      height: 32px;\n",
       "      padding: 0 0 0 0;\n",
       "      width: 32px;\n",
       "    }\n",
       "\n",
       "    .colab-df-convert:hover {\n",
       "      background-color: #E2EBFA;\n",
       "      box-shadow: 0px 1px 2px rgba(60, 64, 67, 0.3), 0px 1px 3px 1px rgba(60, 64, 67, 0.15);\n",
       "      fill: #174EA6;\n",
       "    }\n",
       "\n",
       "    [theme=dark] .colab-df-convert {\n",
       "      background-color: #3B4455;\n",
       "      fill: #D2E3FC;\n",
       "    }\n",
       "\n",
       "    [theme=dark] .colab-df-convert:hover {\n",
       "      background-color: #434B5C;\n",
       "      box-shadow: 0px 1px 3px 1px rgba(0, 0, 0, 0.15);\n",
       "      filter: drop-shadow(0px 1px 2px rgba(0, 0, 0, 0.3));\n",
       "      fill: #FFFFFF;\n",
       "    }\n",
       "  </style>\n",
       "\n",
       "      <script>\n",
       "        const buttonEl =\n",
       "          document.querySelector('#df-64236c98-b9a4-40c4-a858-22ddbfc4775d button.colab-df-convert');\n",
       "        buttonEl.style.display =\n",
       "          google.colab.kernel.accessAllowed ? 'block' : 'none';\n",
       "\n",
       "        async function convertToInteractive(key) {\n",
       "          const element = document.querySelector('#df-64236c98-b9a4-40c4-a858-22ddbfc4775d');\n",
       "          const dataTable =\n",
       "            await google.colab.kernel.invokeFunction('convertToInteractive',\n",
       "                                                     [key], {});\n",
       "          if (!dataTable) return;\n",
       "\n",
       "          const docLinkHtml = 'Like what you see? Visit the ' +\n",
       "            '<a target=\"_blank\" href=https://colab.research.google.com/notebooks/data_table.ipynb>data table notebook</a>'\n",
       "            + ' to learn more about interactive tables.';\n",
       "          element.innerHTML = '';\n",
       "          dataTable['output_type'] = 'display_data';\n",
       "          await google.colab.output.renderOutput(dataTable, element);\n",
       "          const docLink = document.createElement('div');\n",
       "          docLink.innerHTML = docLinkHtml;\n",
       "          element.appendChild(docLink);\n",
       "        }\n",
       "      </script>\n",
       "    </div>\n",
       "  </div>\n",
       "  "
      ],
      "text/plain": [
       "       no_of_trainings           age  ...  avg_training_score   is_promoted\n",
       "count     54808.000000  54808.000000  ...        54808.000000  54808.000000\n",
       "mean          1.253011     34.803915  ...           63.386750      0.085170\n",
       "std           0.609264      7.660169  ...           13.371559      0.279137\n",
       "min           1.000000     20.000000  ...           39.000000      0.000000\n",
       "25%           1.000000     29.000000  ...           51.000000      0.000000\n",
       "50%           1.000000     33.000000  ...           60.000000      0.000000\n",
       "75%           1.000000     39.000000  ...           76.000000      0.000000\n",
       "max          10.000000     60.000000  ...           99.000000      1.000000\n",
       "\n",
       "[8 rows x 8 columns]"
      ]
     },
     "execution_count": 9,
     "metadata": {},
     "output_type": "execute_result"
    }
   ],
   "source": [
    "df.describe()"
   ]
  },
  {
   "cell_type": "code",
   "execution_count": 10,
   "id": "eeb1b052",
   "metadata": {
    "colab": {
     "base_uri": "https://localhost:8080/"
    },
    "id": "eeb1b052",
    "outputId": "17d4ea3b-9bf1-4f90-b0af-51dcb681b858"
   },
   "outputs": [
    {
     "data": {
      "text/plain": [
       "0    50140\n",
       "1     4668\n",
       "Name: is_promoted, dtype: int64"
      ]
     },
     "execution_count": 10,
     "metadata": {},
     "output_type": "execute_result"
    }
   ],
   "source": [
    "df.is_promoted.value_counts() #highly imbalanced data"
   ]
  },
  {
   "cell_type": "code",
   "execution_count": 11,
   "id": "afb0b7bc",
   "metadata": {
    "colab": {
     "base_uri": "https://localhost:8080/",
     "height": 278
    },
    "id": "afb0b7bc",
    "outputId": "8154ad9b-984b-4f15-fd5e-9aac887a453c"
   },
   "outputs": [
    {
     "data": {
      "image/png": "[encoded data removed]",
      "text/plain": [
       "<Figure size 1152x288 with 1 Axes>"
      ]
     },
     "metadata": {
      "needs_background": "light"
     },
     "output_type": "display_data"
    }
   ],
   "source": [
    "#frequency plot for department \n",
    "plt.figure(figsize = (16,4))\n",
    "ax = sns.countplot(x=\"department\",data=df, hue = \"is_promoted\")"
   ]
  },
  {
   "cell_type": "code",
   "execution_count": 12,
   "id": "06133c92",
   "metadata": {
    "colab": {
     "base_uri": "https://localhost:8080/",
     "height": 278
    },
    "id": "06133c92",
    "outputId": "c857a54d-8b47-4530-fb31-2b09f2d225fc"
   },
   "outputs": [
    {
     "data": {
      "image/png": "[encoded data removed]",
      "text/plain": [
       "<Figure size 1152x288 with 1 Axes>"
      ]
     },
     "metadata": {
      "needs_background": "light"
     },
     "output_type": "display_data"
    }
   ],
   "source": [
    "#frequency plot for education \n",
    "plt.figure(figsize = (16,4))\n",
    "ax = sns.countplot(x=\"education\",data=df, hue = \"is_promoted\")"
   ]
  },
  {
   "cell_type": "code",
   "execution_count": 13,
   "id": "16681247",
   "metadata": {
    "colab": {
     "base_uri": "https://localhost:8080/",
     "height": 278
    },
    "id": "16681247",
    "outputId": "c8e9bf43-a900-4eac-e039-9385c0228675"
   },
   "outputs": [
    {
     "data": {
      "image/png": "[encoded data removed]",
      "text/plain": [
       "<Figure size 1152x288 with 1 Axes>"
      ]
     },
     "metadata": {
      "needs_background": "light"
     },
     "output_type": "display_data"
    }
   ],
   "source": [
    "#frequency plot for gender \n",
    "plt.figure(figsize = (16,4))\n",
    "ax = sns.countplot(x=\"gender\",data=df, hue = \"is_promoted\")"
   ]
  },
  {
   "cell_type": "code",
   "execution_count": 14,
   "id": "64494a0d",
   "metadata": {
    "colab": {
     "base_uri": "https://localhost:8080/",
     "height": 280
    },
    "id": "64494a0d",
    "outputId": "6b92be85-4da9-4d38-fe01-ba0c210a52a8",
    "scrolled": true
   },
   "outputs": [
    {
     "data": {
      "image/png": "[encoded data removed]",
      "text/plain": [
       "<Figure size 1152x288 with 1 Axes>"
      ]
     },
     "metadata": {
      "needs_background": "light"
     },
     "output_type": "display_data"
    }
   ],
   "source": [
    "#frequency plot for recruitent_channel \n",
    "plt.figure(figsize = (16,4))\n",
    "ax = sns.countplot(x=\"recruitment_channel\",data=df, hue = \"is_promoted\")"
   ]
  },
  {
   "cell_type": "code",
   "execution_count": 15,
   "id": "10c4a9e6",
   "metadata": {
    "colab": {
     "base_uri": "https://localhost:8080/",
     "height": 170
    },
    "id": "10c4a9e6",
    "outputId": "74b76049-7c82-4f72-9670-89ed1090522b",
    "scrolled": true
   },
   "outputs": [
    {
     "data": {
      "image/png": "[encoded data removed]",
      "text/plain": [
       "<Figure size 2520x288 with 1 Axes>"
      ]
     },
     "metadata": {
      "needs_background": "light"
     },
     "output_type": "display_data"
    }
   ],
   "source": [
    "#frequency plot for region \n",
    "plt.figure(figsize = (35,4))\n",
    "ax = sns.countplot(x=\"region\",data=df, hue = \"is_promoted\")"
   ]
  },
  {
   "cell_type": "code",
   "execution_count": 16,
   "id": "90ea264c",
   "metadata": {
    "id": "90ea264c"
   },
   "outputs": [],
   "source": [
    "#generate region_x columns from the region column as 22, 7 and 2 are most appeared regions\n",
    "\n",
    "def region_22(x):\n",
    "    if x == 'region_22':\n",
    "        return 1\n",
    "    else:\n",
    "        return 0\n",
    "def region_2(x):\n",
    "    if x == 'region_2':\n",
    "        return 1\n",
    "    else:\n",
    "        return 0\n",
    "def region_7(x):\n",
    "    if x == 'region_7':\n",
    "        return 1\n",
    "    else:\n",
    "        return 0\n",
    "    \n",
    "df['region_region_2'] = df['region'].apply(region_2)\n",
    "df['region_region_22'] = df['region'].apply(region_22)\n",
    "df['region_region_7'] = df['region'].apply(region_7)\n",
    "\n",
    "df = df.drop(columns = ['region'])"
   ]
  },
  {
   "cell_type": "code",
   "execution_count": 17,
   "id": "58c31b64",
   "metadata": {
    "id": "58c31b64"
   },
   "outputs": [],
   "source": [
    "#converting categorical columns to numbers\n",
    "#one hot for department, gender, recruitment_channel\n",
    "#label for education\n",
    "\n",
    "categorical_cols = ['department','gender','recruitment_channel'] \n",
    "df = pd.get_dummies(df, columns = categorical_cols) #one hot encoding for categorial except education\n",
    "\n",
    "le = preprocessing.LabelEncoder() #education is ordinal\n",
    "df['education'] = le.fit_transform(df.education.values)"
   ]
  },
  {
   "cell_type": "code",
   "execution_count": 18,
   "id": "d440c72a",
   "metadata": {
    "id": "d440c72a"
   },
   "outputs": [],
   "source": [
    "#creating X as features and y as label\n",
    "X = df.iloc[:, df.columns!='is_promoted']\n",
    "y = df['is_promoted']"
   ]
  },
  {
   "cell_type": "code",
   "execution_count": 19,
   "id": "43b29ed7",
   "metadata": {
    "id": "43b29ed7"
   },
   "outputs": [],
   "source": [
    "#SMOTE oversampling the minority class in order to create balance between both classes\n",
    "smt = SMOTE(sampling_strategy='minority', random_state=0) #oversampling the minority class\n",
    "X, y = smt.fit_resample(X, y)"
   ]
  },
  {
   "cell_type": "code",
   "execution_count": 20,
   "id": "60010054",
   "metadata": {
    "id": "60010054"
   },
   "outputs": [],
   "source": [
    "#splitting data into train and test set for evaluation before submission\n",
    "X_train, X_test, y_train, y_test = train_test_split(X, y, test_size = 0.05, random_state=0)"
   ]
  },
  {
   "cell_type": "markdown",
   "id": "384c98f2",
   "metadata": {
    "id": "384c98f2"
   },
   "source": [
    "#### Model Building, Tuning, Evaluation and Interpretability"
   ]
  },
  {
   "cell_type": "markdown",
   "id": "521f8502",
   "metadata": {
    "id": "521f8502"
   },
   "source": [
    "Detailed comments are mentioned in each cell. To provide a high level overview, in this part of notebook, we are performing model training, hyperparameter optimization, models saving, stacking model, model evaluation and model interpretability. "
   ]
  },
  {
   "cell_type": "code",
   "execution_count": 21,
   "id": "b43cf994",
   "metadata": {
    "id": "b43cf994",
    "scrolled": true
   },
   "outputs": [],
   "source": [
    "#Code is commented out because we load in the models from a pickle file instead of retraining. \n",
    "#Define model parameters to run and run a Random Search Cross Validation\n",
    "\n",
    "#model = catboost.CatBoostClassifier(random_state=42)\n",
    "#parameters = {'depth'         : sp_randInt(4, 10),\n",
    "#              'learning_rate' : sp_randFloat(),\n",
    "#              'iterations'    : sp_randInt(10, 100),\n",
    "#              'random_strength': sp_randFloat(),\n",
    "#              'border_count': sp_randInt(1, 255),\n",
    "#              'l2_leaf_reg': sp_randInt(2, 30),\n",
    "#              'scale_pos_weight': sp_randFloat()\n",
    "#             }\n",
    "\n",
    "#model = lgb.LGBMClassifier(random_state=42)\n",
    "#parameters = {'num_leaves'         : sp_randInt(20, 140),\n",
    "#              'reg_alpha' : sp_randFloat(),\n",
    "#              'min_data_in_leaf'    : sp_randInt(30, 500),\n",
    "#              'lambda_l1': sp_randFloat(),\n",
    "#              'lambda_l2': sp_randFloat()\n",
    "#             }\n",
    "\n",
    "#model = GradientBoostingClassifier(random_state=42)\n",
    "#parameters = {'max_depth'         : sp_randInt(5, 20),\n",
    "#              'min_samples_split' : sp_randInt(100, 2000),\n",
    "#              'min_samples_leaf'    : sp_randInt(30, 80),\n",
    "#              'max_features': sp_randInt(7, 20),\n",
    "#              'subsample': sp_randFloat()\n",
    "#             }\n",
    "\n",
    "#randm = RandomizedSearchCV(estimator=model, param_distributions = parameters, \n",
    "#                           cv = 10, n_iter = 20, n_jobs=-1, random_state=0)\n",
    "#randm.fit(X_train, y_train)\n",
    "\n",
    "# Results from Random Search\n",
    "#print(\"\\n========================================================\")\n",
    "#print(\" Results from Random Search \" )\n",
    "#print(\"========================================================\")    \n",
    "\n",
    "#print(\"\\n The best estimator across ALL searched params:\\n\",\n",
    "#      randm.best_estimator_)\n",
    "\n",
    "#print(\"\\n The best score across ALL searched params:\\n\",\n",
    "#      randm.best_score_)\n",
    "\n",
    "#print(\"\\n The best parameters across ALL searched params:\\n\",\n",
    "#      randm.best_params_)\n",
    "\n",
    "#print(\"\\n ========================================================\")"
   ]
  },
  {
   "cell_type": "code",
   "execution_count": 22,
   "id": "6d124f5a",
   "metadata": {
    "id": "6d124f5a"
   },
   "outputs": [],
   "source": [
    "#Code is commented out because we have already made csvs. Csvs contain best set of parameters for each model\n",
    "\n",
    "#send best parameters to a csv\n",
    "#with open('catboost_best_parameters.csv', 'w') as f:\n",
    "#    for key in randm.best_params_.keys():\n",
    "#        f.write(\"%s,%s\\n\"%(key,randm.best_params_[key]))\n",
    "\n",
    "#send best parameters to a csv\n",
    "#with open('lightgbm_best_parameters.csv', 'w') as f:\n",
    "#    for key in randm.best_params_.keys():\n",
    "#        f.write(\"%s,%s\\n\"%(key,randm.best_params_[key]))\n",
    "\n",
    "#send best parameters to a csv\n",
    "#with open('gradientboost_best_parameters.csv', 'w') as f:\n",
    "#    for key in randm.best_params_.keys():\n",
    "#        f.write(\"%s,%s\\n\"%(key,randm.best_params_[key]))"
   ]
  },
  {
   "cell_type": "code",
   "execution_count": 23,
   "id": "a80bc682",
   "metadata": {
    "id": "a80bc682"
   },
   "outputs": [],
   "source": [
    "#Code is commented out because we will directly load the model pickle and not parameters. \n",
    "#read best parameters from a csv (Add in randm. if training again)\n",
    "\n",
    "#best_params_ = pd.read_csv('catboost_best_parameters.csv', header=None, index_col=0, squeeze=True).to_dict()\n",
    "#best_params_ = pd.read_csv('lightgbm_best_parameters.csv', header=None, index_col=0, squeeze=True).to_dict()\n",
    "#best_params_ = pd.read_csv('gradientboost_best_parameters.csv', header=None, index_col=0, squeeze=True).to_dict()"
   ]
  },
  {
   "cell_type": "code",
   "execution_count": 24,
   "id": "17703171",
   "metadata": {
    "id": "17703171"
   },
   "outputs": [],
   "source": [
    "#Code is commented out because we have already trained and saved models. Using best set of parameters to train respective\n",
    "#models and then save them using joblib\n",
    "\n",
    "#depth = best_params_['depth']\n",
    "#learning_rate = best_params_['learning_rate']\n",
    "#iterations = best_params_['iterations']\n",
    "#random_strength = best_params_['random_strength']\n",
    "#border_count = best_params_['border_count']\n",
    "#l2_leaf_reg = best_params_['l2_leaf_reg']\n",
    "#scale_pos_weight = best_params_['scale_pos_weight']\n",
    "\n",
    "#model = catboost.CatBoostClassifier(depth = depth, learning_rate = learning_rate, iterations = iterations,random_strength = random_strength,border_count = border_count,l2_leaf_reg = l2_leaf_reg,scale_pos_weight = scale_pos_weight, random_state=0);\n",
    "#model.fit(X_train, y_train, verbose = 0)\n",
    "\n",
    "# save model\n",
    "#joblib.dump(model, 'catboost.pkl')\n",
    "\n",
    "#lambda_l1 = best_params_['lambda_l1']\n",
    "#lambda_l2 = best_params_['lambda_l2']\n",
    "#min_data_in_leaf = int(best_params_['min_data_in_leaf'])\n",
    "#num_leaves = int(best_params_['num_leaves'])\n",
    "#reg_alpha = best_params_['reg_alpha']\n",
    "\n",
    "#model = lgb.LGBMClassifier(lambda_l1 = lambda_l1, lambda_l2 = lambda_l2, min_data_in_leaf = min_data_in_leaf,num_leaves = num_leaves,reg_alpha = reg_alpha,random_state=0);\n",
    "#model.fit(X_train, y_train, verbose = 0)\n",
    "\n",
    "# save model\n",
    "#joblib.dump(model, 'lgb.pkl')\n",
    "\n",
    "#max_depth = best_params_['max_depth']\n",
    "#min_samples_split = int(best_params_['min_samples_split'])\n",
    "#min_samples_leaf = int(best_params_['min_samples_leaf'])\n",
    "#max_features = int(best_params_['max_features'])\n",
    "#subsample = best_params_['subsample']\n",
    "\n",
    "#model = GradientBoostingClassifier(max_depth = max_depth, min_samples_split = min_samples_split, min_samples_leaf = min_samples_leaf,max_features = max_features,subsample = subsample,random_state=0);\n",
    "#model.fit(X_train, y_train)\n",
    "\n",
    "# save model\n",
    "#joblib.dump(model, 'gb.pkl')\n",
    "\n"
   ]
  },
  {
   "cell_type": "code",
   "execution_count": 25,
   "id": "btLPS9XHgfGx",
   "metadata": {
    "colab": {
     "base_uri": "https://localhost:8080/"
    },
    "id": "btLPS9XHgfGx",
    "outputId": "f4369673-ec43-4769-c443-417ee5d91545"
   },
   "outputs": [
    {
     "data": {
      "text/plain": [
       "0.9457518946948544"
      ]
     },
     "execution_count": 25,
     "metadata": {},
     "output_type": "execute_result"
    }
   ],
   "source": [
    "#load all three models again and make a Decision Tree stacking model\n",
    "\n",
    "#load models\n",
    "model_gb = joblib.load('gb.pkl')\n",
    "model_lgb = joblib.load('lgb.pkl')\n",
    "model_cat = joblib.load('catboost.pkl')\n",
    "\n",
    "#make predictions on train\n",
    "pred_gb_train = model_gb.predict(X_train)\n",
    "pred_lgb_train = model_lgb.predict(X_train)\n",
    "pred_cat_train = model_cat.predict(X_train)\n",
    "\n",
    "#make predictions on test\n",
    "pred_gb_test = model_gb.predict(X_test)\n",
    "pred_lgb_test = model_lgb.predict(X_test)\n",
    "pred_cat_test = model_cat.predict(X_test)\n",
    "\n",
    "\n",
    "#concatenate train predictions into a dataframe\n",
    "df_train = pd.DataFrame(\n",
    "    {'gb': pred_gb_train,\n",
    "     'lgb': pred_lgb_train,\n",
    "     'cat': pred_cat_train\n",
    "    })\n",
    "\n",
    "#concatenate test predictions into a dataframe\n",
    "df_test = pd.DataFrame(\n",
    "    {'gb': pred_gb_test,\n",
    "     'lgb': pred_lgb_test,\n",
    "     'cat': pred_cat_test\n",
    "    })\n",
    "\n",
    "#train a model and compute score\n",
    "model_stacking = DecisionTreeClassifier(random_state = 0)\n",
    "model_stacking.fit(df_train,y_train)\n",
    "model_stacking.score(df_test,y_test)"
   ]
  },
  {
   "cell_type": "code",
   "execution_count": 26,
   "id": "5706d1b9",
   "metadata": {
    "id": "5706d1b9"
   },
   "outputs": [],
   "source": [
    "#load the model you want\n",
    "model = joblib.load('lgb.pkl')\n",
    "#model = joblib.load('gb.pkl')\n",
    "#model = joblib.load('catboost.pkl')"
   ]
  },
  {
   "cell_type": "code",
   "execution_count": 27,
   "id": "c0769489",
   "metadata": {
    "colab": {
     "base_uri": "https://localhost:8080/",
     "height": 371
    },
    "id": "c0769489",
    "outputId": "61ccc45c-c854-4593-cae5-0ad36ff54cfa"
   },
   "outputs": [
    {
     "name": "stdout",
     "output_type": "stream",
     "text": [
      "F1 score for test set:  0.9459330434192449\n",
      "Test Accuracy:  0.9459513362584763\n",
      "Balanced accuracy test:  0.9458727697554696\n",
      "Specificity:  0.962286621675268\n",
      "Sensitivity:  0.9294589178356714\n"
     ]
    },
    {
     "data": {
      "image/png": "[encoded data removed]",
      "text/plain": [
       "<Figure size 432x288 with 2 Axes>"
      ]
     },
     "metadata": {
      "needs_background": "light"
     },
     "output_type": "display_data"
    }
   ],
   "source": [
    "#Print F1 scores, accuracies for test set along with a confusion matrix.\n",
    "#Note: This is not the test set for competition\n",
    "y_pred = model.predict(X_test)\n",
    "print(\"F1 score for test set: \",f1_score(y_test, y_pred, average='weighted'))\n",
    "print(\"Test Accuracy: \",accuracy_score(y_pred,y_test))\n",
    "print (\"Balanced accuracy test: \", balanced_accuracy_score(y_test,y_pred))\n",
    "##Test cm\n",
    "ax= plt.subplot()\n",
    "cm = confusion_matrix(y_test,y_pred)\n",
    "sns.heatmap(cm, annot=True, fmt='g', linewidths=1)\n",
    "ax.set_xlabel('Predicted labels');ax.set_ylabel('True labels')\n",
    "tn, fp, fn, tp = cm.ravel()\n",
    "print (\"Specificity: \",tn / (tn+fp))\n",
    "print (\"Sensitivity: \", tp / (tp+fn))"
   ]
  },
  {
   "cell_type": "code",
   "execution_count": 28,
   "id": "13e3a4d0",
   "metadata": {
    "colab": {
     "base_uri": "https://localhost:8080/",
     "height": 278
    },
    "id": "13e3a4d0",
    "outputId": "2d587987-b66f-42be-fb12-ffa957b5ca7e",
    "scrolled": true
   },
   "outputs": [
    {
     "data": {
      "image/png": "[encoded data removed]",
      "text/plain": [
       "<Figure size 432x288 with 1 Axes>"
      ]
     },
     "metadata": {
      "needs_background": "light"
     },
     "output_type": "display_data"
    }
   ],
   "source": [
    "#AUCROC curve\n",
    "\n",
    "yhat = model.predict_proba(X_test)\n",
    "pos_probs = yhat[:, 1]\n",
    "plt.plot([0, 1], [0, 1], linestyle='--', label='Random Chance')\n",
    "fpr, tpr, _ = roc_curve(y_test, pos_probs)\n",
    "plt.plot(fpr, tpr, marker='.', label='ROC Curve, AUC = '+str(roc_auc_score(y_test, pos_probs))+')')\n",
    "plt.xlabel('False Positive Rate')\n",
    "plt.ylabel('True Positive Rate')\n",
    "plt.legend()\n",
    "plt.show()"
   ]
  },
  {
   "cell_type": "code",
   "execution_count": 29,
   "id": "e8d300c5",
   "metadata": {
    "colab": {
     "base_uri": "https://localhost:8080/",
     "height": 807
    },
    "id": "e8d300c5",
    "outputId": "6bb933a8-7758-42c5-efe3-886e9463bc5a"
   },
   "outputs": [
    {
     "data": {
      "image/png": "[encoded data removed]",
      "text/plain": [
       "<Figure size 1440x1080 with 1 Axes>"
      ]
     },
     "metadata": {
      "needs_background": "light"
     },
     "output_type": "display_data"
    }
   ],
   "source": [
    "#a plot of feature importances\n",
    "\n",
    "def plot_feature_importance(importance,names,model_type):\n",
    "    #Create arrays from feature importance and feature names\n",
    "    feature_importance = np.array(importance)\n",
    "    feature_names = np.array(names)\n",
    "\n",
    "    #Create a DataFrame using a Dictionary\n",
    "    data={'feature_names':feature_names,'feature_importance':feature_importance}\n",
    "    fi_df = pd.DataFrame(data)\n",
    "\n",
    "    #Sort the DataFrame in order decreasing feature importance\n",
    "    fi_df.sort_values(by=['feature_importance'], ascending=False,inplace=True)\n",
    "\n",
    "    #Define size of bar plot\n",
    "    plt.figure(figsize=(20,15))\n",
    "    #Plot Searborn bar chart\n",
    "    sns.barplot(x=fi_df['feature_importance'], y=fi_df['feature_names'])\n",
    "    #Add chart labels\n",
    "    plt.title(model_type + ' FEATURE IMPORTANCE')\n",
    "    plt.xlabel('FEATURE IMPORTANCE')\n",
    "    plt.ylabel('FEATURE NAMES')\n",
    "#plot_feature_importance(model.get_feature_importance(),df.drop(columns = ['is_promoted']).columns,'CATBOOST')\n",
    "plot_feature_importance(model.feature_importances_,df.drop(columns = ['is_promoted']).columns,'Light GBM')"
   ]
  },
  {
   "cell_type": "code",
   "execution_count": 30,
   "id": "5kZ69wHYN_9I",
   "metadata": {
    "colab": {
     "base_uri": "https://localhost:8080/",
     "height": 581
    },
    "id": "5kZ69wHYN_9I",
    "outputId": "012d8328-1442-469a-d6c8-b18c8eb0bc85"
   },
   "outputs": [
    {
     "data": {
      "image/png": "[encoded data removed]",
      "text/plain": [
       "<Figure size 576x684 with 1 Axes>"
      ]
     },
     "metadata": {
      "needs_background": "light"
     },
     "output_type": "display_data"
    }
   ],
   "source": [
    "#Model Interpretability using SHAP\n",
    "explainer = shap.TreeExplainer(model)\n",
    "shap_values = explainer.shap_values(X_train)\n",
    "shap.summary_plot(shap_values, features=X_train, feature_names=X_train.columns)"
   ]
  },
  {
   "cell_type": "markdown",
   "id": "f2238513",
   "metadata": {
    "id": "f2238513"
   },
   "source": [
    "#### Submission Results"
   ]
  },
  {
   "cell_type": "markdown",
   "id": "0c4cf44c",
   "metadata": {
    "id": "0c4cf44c"
   },
   "source": [
    "Detailed comments are mentioned in each cell. To provide a high level overview, in this part of notebook, we are generating predictions on the test set that is used for competition scoring using individual models and ensemble techniques."
   ]
  },
  {
   "cell_type": "code",
   "execution_count": 32,
   "id": "05e401fe",
   "metadata": {
    "id": "05e401fe"
   },
   "outputs": [],
   "source": [
    "#read in the test data and perform the same transformations as we did previously on official train set\n",
    "\n",
    "df_test_unm = pd.read_csv('test_2umaH9m.csv')\n",
    "df_test = pd.read_csv('test_2umaH9m.csv')\n",
    "df_test.education.fillna(\"Bachelor's\", inplace=True) #mode is bachelors\n",
    "df_test.previous_year_rating.fillna(0, inplace=True) #0 is just joined\n",
    "df_test = df_test.drop(columns = ['employee_id'])\n",
    "\n",
    "df_test['region_region_2'] = df_test['region'].apply(region_2)\n",
    "df_test['region_region_22'] = df_test['region'].apply(region_22)\n",
    "df_test['region_region_7'] = df_test['region'].apply(region_7)\n",
    "\n",
    "df_test = df_test.drop(columns = ['region'])\n",
    "df_test = pd.get_dummies(df_test, columns = categorical_cols)\n",
    "df_test['education'] = le.fit_transform(df_test.education.values)"
   ]
  },
  {
   "cell_type": "code",
   "execution_count": 34,
   "id": "lEVNZ6GcdyiD",
   "metadata": {
    "colab": {
     "base_uri": "https://localhost:8080/"
    },
    "id": "lEVNZ6GcdyiD",
    "outputId": "e19f8a47-59fd-4b94-92b6-4b876f0411e8"
   },
   "outputs": [
    {
     "name": "stdout",
     "output_type": "stream",
     "text": [
      "0:\tlearn: 0.3889984\ttotal: 85.3ms\tremaining: 5.8s\n",
      "1:\tlearn: 0.3066427\ttotal: 119ms\tremaining: 4s\n",
      "2:\tlearn: 0.2450945\ttotal: 155ms\tremaining: 3.4s\n",
      "3:\tlearn: 0.1973059\ttotal: 190ms\tremaining: 3.09s\n",
      "4:\tlearn: 0.1827142\ttotal: 224ms\tremaining: 2.87s\n",
      "5:\tlearn: 0.1724438\ttotal: 258ms\tremaining: 2.71s\n",
      "6:\tlearn: 0.1694250\ttotal: 297ms\tremaining: 2.63s\n",
      "7:\tlearn: 0.1636363\ttotal: 331ms\tremaining: 2.52s\n",
      "8:\tlearn: 0.1568481\ttotal: 366ms\tremaining: 2.44s\n",
      "9:\tlearn: 0.1543391\ttotal: 403ms\tremaining: 2.38s\n",
      "10:\tlearn: 0.1505310\ttotal: 439ms\tremaining: 2.31s\n",
      "11:\tlearn: 0.1475330\ttotal: 477ms\tremaining: 2.27s\n",
      "12:\tlearn: 0.1465571\ttotal: 519ms\tremaining: 2.23s\n",
      "13:\tlearn: 0.1443592\ttotal: 554ms\tremaining: 2.18s\n",
      "14:\tlearn: 0.1413784\ttotal: 591ms\tremaining: 2.13s\n",
      "15:\tlearn: 0.1392720\ttotal: 631ms\tremaining: 2.09s\n",
      "16:\tlearn: 0.1374350\ttotal: 672ms\tremaining: 2.06s\n",
      "17:\tlearn: 0.1357569\ttotal: 707ms\tremaining: 2s\n",
      "18:\tlearn: 0.1346300\ttotal: 749ms\tremaining: 1.97s\n",
      "19:\tlearn: 0.1331119\ttotal: 785ms\tremaining: 1.92s\n",
      "20:\tlearn: 0.1315335\ttotal: 820ms\tremaining: 1.87s\n",
      "21:\tlearn: 0.1304804\ttotal: 854ms\tremaining: 1.82s\n",
      "22:\tlearn: 0.1295744\ttotal: 914ms\tremaining: 1.83s\n",
      "23:\tlearn: 0.1287054\ttotal: 950ms\tremaining: 1.78s\n",
      "24:\tlearn: 0.1272485\ttotal: 988ms\tremaining: 1.74s\n",
      "25:\tlearn: 0.1264340\ttotal: 1.02s\tremaining: 1.69s\n",
      "26:\tlearn: 0.1253026\ttotal: 1.05s\tremaining: 1.64s\n",
      "27:\tlearn: 0.1238136\ttotal: 1.09s\tremaining: 1.6s\n",
      "28:\tlearn: 0.1224127\ttotal: 1.13s\tremaining: 1.56s\n",
      "29:\tlearn: 0.1217291\ttotal: 1.17s\tremaining: 1.51s\n",
      "30:\tlearn: 0.1205155\ttotal: 1.2s\tremaining: 1.47s\n",
      "31:\tlearn: 0.1195176\ttotal: 1.24s\tremaining: 1.43s\n",
      "32:\tlearn: 0.1188463\ttotal: 1.27s\tremaining: 1.39s\n",
      "33:\tlearn: 0.1171916\ttotal: 1.31s\tremaining: 1.35s\n",
      "34:\tlearn: 0.1166482\ttotal: 1.34s\tremaining: 1.31s\n",
      "35:\tlearn: 0.1151987\ttotal: 1.39s\tremaining: 1.27s\n",
      "36:\tlearn: 0.1141173\ttotal: 1.42s\tremaining: 1.23s\n",
      "37:\tlearn: 0.1133950\ttotal: 1.46s\tremaining: 1.19s\n",
      "38:\tlearn: 0.1127906\ttotal: 1.5s\tremaining: 1.16s\n",
      "39:\tlearn: 0.1122258\ttotal: 1.54s\tremaining: 1.12s\n",
      "40:\tlearn: 0.1115465\ttotal: 1.57s\tremaining: 1.07s\n",
      "41:\tlearn: 0.1109624\ttotal: 1.61s\tremaining: 1.04s\n",
      "42:\tlearn: 0.1096647\ttotal: 1.65s\tremaining: 997ms\n",
      "43:\tlearn: 0.1087650\ttotal: 1.69s\tremaining: 958ms\n",
      "44:\tlearn: 0.1083018\ttotal: 1.72s\tremaining: 918ms\n",
      "45:\tlearn: 0.1072793\ttotal: 1.75s\tremaining: 878ms\n",
      "46:\tlearn: 0.1065780\ttotal: 1.79s\tremaining: 838ms\n",
      "47:\tlearn: 0.1055517\ttotal: 1.83s\tremaining: 801ms\n",
      "48:\tlearn: 0.1049130\ttotal: 1.87s\tremaining: 763ms\n",
      "49:\tlearn: 0.1044996\ttotal: 1.9s\tremaining: 723ms\n",
      "50:\tlearn: 0.1037609\ttotal: 1.94s\tremaining: 684ms\n",
      "51:\tlearn: 0.1030564\ttotal: 1.97s\tremaining: 646ms\n",
      "52:\tlearn: 0.1019351\ttotal: 2.01s\tremaining: 607ms\n",
      "53:\tlearn: 0.1014497\ttotal: 2.05s\tremaining: 569ms\n",
      "54:\tlearn: 0.1009801\ttotal: 2.08s\tremaining: 530ms\n",
      "55:\tlearn: 0.1005518\ttotal: 2.12s\tremaining: 492ms\n",
      "56:\tlearn: 0.0997573\ttotal: 2.16s\tremaining: 454ms\n",
      "57:\tlearn: 0.0990093\ttotal: 2.19s\tremaining: 416ms\n",
      "58:\tlearn: 0.0982162\ttotal: 2.23s\tremaining: 377ms\n",
      "59:\tlearn: 0.0971340\ttotal: 2.27s\tremaining: 340ms\n",
      "60:\tlearn: 0.0966762\ttotal: 2.3s\tremaining: 302ms\n",
      "61:\tlearn: 0.0964550\ttotal: 2.33s\tremaining: 264ms\n",
      "62:\tlearn: 0.0958749\ttotal: 2.37s\tremaining: 226ms\n",
      "63:\tlearn: 0.0950613\ttotal: 2.41s\tremaining: 188ms\n",
      "64:\tlearn: 0.0945760\ttotal: 2.44s\tremaining: 150ms\n",
      "65:\tlearn: 0.0938564\ttotal: 2.48s\tremaining: 113ms\n",
      "66:\tlearn: 0.0931796\ttotal: 2.52s\tremaining: 75.4ms\n",
      "67:\tlearn: 0.0928278\ttotal: 2.56s\tremaining: 37.6ms\n",
      "68:\tlearn: 0.0918758\ttotal: 2.6s\tremaining: 0us\n"
     ]
    },
    {
     "data": {
      "text/plain": [
       "VotingClassifier(estimators=[('gb',\n",
       "                              GradientBoostingClassifier(max_depth=17.0,\n",
       "                                                         max_features=16,\n",
       "                                                         min_samples_leaf=72,\n",
       "                                                         min_samples_split=184,\n",
       "                                                         random_state=0,\n",
       "                                                         subsample=0.634274057957335)),\n",
       "                             ('lgb',\n",
       "                              LGBMClassifier(lambda_l1=0.2726562945801132,\n",
       "                                             lambda_l2=0.4776651173213498,\n",
       "                                             min_data_in_leaf=69,\n",
       "                                             num_leaves=107, random_state=0,\n",
       "                                             reg_alpha=0.4799771723750573)),\n",
       "                             ('cat',\n",
       "                              <catboost.core.CatBoostClassifier object at 0x7fbdfe455fd0>)])"
      ]
     },
     "execution_count": 34,
     "metadata": {},
     "output_type": "execute_result"
    }
   ],
   "source": [
    "#load all models. \n",
    "#choose if you want to do hard voting, soft voting or stacking and uncomment code accordingly\n",
    "\n",
    "model_gb = joblib.load('gb.pkl')\n",
    "model_lgb = joblib.load('lgb.pkl')\n",
    "model_cat = joblib.load('catboost.pkl')\n",
    "\n",
    "model = VotingClassifier(estimators=[('gb', model_gb), ('lgb', model_lgb),('cat', model_cat)], voting='hard')\n",
    "model.fit(X_train,y_train)\n",
    "\n",
    "#model = VotingClassifier(estimators=[('gb', model_gb), ('lgb', model_lgb),('cat', model_cat)], voting='soft')\n",
    "#model.fit(X_train,y_train)\n",
    "\n",
    "\n",
    "#X_test = df_test.values\n",
    "#pred_gb_test = model_gb.predict(X_test)\n",
    "#pred_lgb_test = model_lgb.predict(X_test)\n",
    "#pred_cat_test = model_cat.predict(X_test)\n",
    "#df_test = pd.DataFrame(\n",
    "#    {'gb': pred_gb_test,\n",
    "#     'lgb': pred_lgb_test,\n",
    "#     'cat': pred_cat_test\n",
    "#    })"
   ]
  },
  {
   "cell_type": "code",
   "execution_count": 35,
   "id": "7c94111a",
   "metadata": {
    "id": "7c94111a"
   },
   "outputs": [],
   "source": [
    "#generate a final set of predictions\n",
    "X_test = df_test.values\n",
    "y_pred = model.predict(X_test)\n",
    "df_test_unm['is_promoted'] = y_pred\n",
    "df_test_unm[['employee_id','is_promoted']].to_csv('hard_predictions.csv', index=None)"
   ]
  }
 ],
 "metadata": {
  "colab": {
   "collapsed_sections": [],
   "name": "656_HR_Analytics.ipynb",
   "provenance": []
  },
  "kernelspec": {
   "display_name": "Python 3",
   "language": "python",
   "name": "python3"
  },
  "language_info": {
   "codemirror_mode": {
    "name": "ipython",
    "version": 3
   },
   "file_extension": ".py",
   "mimetype": "text/x-python",
   "name": "python",
   "nbconvert_exporter": "python",
   "pygments_lexer": "ipython3",
   "version": "3.8.8"
  }
 },
 "nbformat": 4,
 "nbformat_minor": 5
}
